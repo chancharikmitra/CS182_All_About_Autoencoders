{
  "cells": [
    {
      "cell_type": "markdown",
      "metadata": {
        "id": "7GIzgyg50w5G"
      },
      "source": [
        "# Purpose and Objectives:"
      ]
    },
    {
      "cell_type": "markdown",
      "metadata": {
        "id": "vEnKmCF2rEUL"
      },
      "source": [
        "You have probably just arrived from getting a thorough understanding of the architectures and capabilities of Autoencoders and Variational Autoencoders! Now, we will look at something more state-of-the-art, the **VQ-VAE** model."
      ]
    },
    {
      "cell_type": "markdown",
      "metadata": {
        "id": "ERczBpsOrEUL"
      },
      "source": [
        "After completing this notebook, you will:\n",
        "1. Have a thorough understanding of the architecture and capabilites of the VQ-VAE\n",
        "2. Be able to implement the VQ-VAE to reconstruct CIFAR-10 images\n",
        "3. Evaluate the models' performance and explore a plethora of visualizations and ablations"
      ]
    },
    {
      "cell_type": "markdown",
      "metadata": {
        "id": "RPHlZCnhrEUM"
      },
      "source": [
        "## Motivation for VQ-VAE"
      ]
    },
    {
      "cell_type": "markdown",
      "metadata": {
        "id": "DlxXDYrNrEUM"
      },
      "source": [
        "Recall, that we motivated the VAE architecture by saying that we would like to regularize the latent space of the AE. We modeled the latent space as being sampled from a Gaussian distribution. This is a convenient and useful interpretation, but can we do better? Yes!"
      ]
    },
    {
      "cell_type": "markdown",
      "metadata": {
        "id": "plWa0nYirEUM"
      },
      "source": [
        "![coco_instance_segmentation.jpeg](attachment:4bad17a6-b078-4a21-977d-4f53fd91eacc.jpeg)"
      ]
    },
    {
      "cell_type": "markdown",
      "metadata": {
        "id": "EZhxSigJrEUM"
      },
      "source": [
        "<p style=\"text-align: center;\">Fig 1. An image taken from the COCO dataset </p>\n",
        "\n",
        "[Source](https://manipulation.csail.mit.edu/segmentation.html)"
      ]
    },
    {
      "cell_type": "markdown",
      "metadata": {
        "id": "ENUURKRYrEUM"
      },
      "source": [
        "The above image, taken from the COCO dataset, illustrates a very important facet of much of the data that is of interest to the deep learning community. Whether it is language, scene images, or audio files, many semantically meaningful data have *discrete elements within them.*\n",
        "\n",
        "Thus, a logical new improvement to our VAE bottleneck would be to **sample from a discrete distribution instead of a continuous one**. That is precisely the main motivation for the VQ-VAE artchitecture."
      ]
    },
    {
      "cell_type": "markdown",
      "metadata": {
        "id": "8K200yb8rEUM"
      },
      "source": [
        "### Concept Check 3-3.1"
      ]
    },
    {
      "cell_type": "code",
      "execution_count": 2,
      "metadata": {
        "id": "frBWvzf004DO"
      },
      "outputs": [],
      "source": [
        "import random\n",
        "import math\n",
        "\n",
        "import numpy as np\n",
        "\n",
        "import torch\n",
        "import torchvision\n",
        "import matplotlib.pyplot as plt\n",
        "import torch.nn as nn\n",
        "import torch.nn.functional as F\n",
        "from torchvision import transforms\n",
        "from torch.distributions import MultivariateNormal, Normal, Independent\n",
        "from torchvision.utils import make_grid\n",
        "\n",
        "from tqdm import tqdm"
      ]
    },
    {
      "cell_type": "code",
      "execution_count": 3,
      "metadata": {
        "colab": {
          "base_uri": "https://localhost:8080/",
          "height": 35
        },
        "id": "PYTm3IZp7eO0",
        "outputId": "4a934e56-e70c-40e9-b555-20dd7ae3aee2"
      },
      "outputs": [
        {
          "data": {
            "text/plain": [
              "'cuda'"
            ]
          },
          "execution_count": 3,
          "metadata": {},
          "output_type": "execute_result"
        }
      ],
      "source": [
        "device = 'cuda' if torch.cuda.is_available() else 'cpu'\n",
        "device"
      ]
    },
    {
      "cell_type": "code",
      "execution_count": 4,
      "metadata": {
        "id": "jHcpmq39tqau"
      },
      "outputs": [],
      "source": [
        "#Reproducability Checks:\n",
        "random.seed(0) #Python\n",
        "torch.manual_seed(0) #Torch\n",
        "np.random.seed(0) #NumPy"
      ]
    },
    {
      "cell_type": "markdown",
      "metadata": {
        "id": "YpFB23_MrEUO"
      },
      "source": [
        "## Implementing VQ-VAE"
      ]
    },
    {
      "attachments": {},
      "cell_type": "markdown",
      "metadata": {
        "id": "1KctYR_JWPb5"
      },
      "source": [
        "### Residual Layers For Image Processing\n",
        "We use ResNet blocks for image processing"
      ]
    },
    {
      "cell_type": "code",
      "execution_count": 5,
      "metadata": {
        "id": "uMNeeU8218It"
      },
      "outputs": [],
      "source": [
        "class ResidualLayerBlock(nn.Module):\n",
        "    def __init__(self, in_dim, h_dim, res_h_dim):\n",
        "        super().__init__()\n",
        "        self.block = nn.Sequential(\n",
        "            nn.ReLU(),\n",
        "            nn.Conv2d(in_channels=in_dim, out_channels = res_h_dim, kernel_size=3, stride=1, padding=1),\n",
        "            nn.BatchNorm2d(res_h_dim),\n",
        "            nn.ReLU(),\n",
        "            nn.Conv2d(in_channels=res_h_dim, out_channels=h_dim, kernel_size=1, stride=1, padding=0),\n",
        "            nn.BatchNorm2d(h_dim)\n",
        "        )\n",
        "\n",
        "    def forward(self, x):\n",
        "        out = x + self.block(x)\n",
        "        return out"
      ]
    },
    {
      "cell_type": "code",
      "execution_count": 6,
      "metadata": {
        "id": "0udDzv_S30qM"
      },
      "outputs": [],
      "source": [
        "class ResidualLayers(nn.Module):\n",
        "    def __init__(self, in_dim, h_dim, res_h_dim, n_res_layers):\n",
        "        super().__init__()\n",
        "        self.n_res_layers = n_res_layers\n",
        "        self.layers = nn.ModuleList(\n",
        "            [ResidualLayerBlock(in_dim, h_dim, res_h_dim)] * n_res_layers\n",
        "        )\n",
        "\n",
        "    def forward(self, x):\n",
        "        for layer in self.layers:\n",
        "            x = layer(x)\n",
        "        return F.relu(x)"
      ]
    },
    {
      "cell_type": "markdown",
      "metadata": {
        "id": "aniKnNNyWaKE"
      },
      "source": [
        "## Encoder"
      ]
    },
    {
      "cell_type": "code",
      "execution_count": 7,
      "metadata": {
        "id": "kpP7l0Nc49I7"
      },
      "outputs": [],
      "source": [
        "class Encoder(nn.Module):\n",
        "    def __init__(self, in_dim, h_dim, res_h_dim, n_res_layers):\n",
        "        super().__init__()\n",
        "        kernel = 4\n",
        "        stride = 2\n",
        "        #Maybe remove batch norms?\n",
        "        self.conv_block = nn.Sequential(\n",
        "            nn.Conv2d(in_dim, h_dim // 2, kernel_size=4, stride=2, padding=1),\n",
        "            nn.BatchNorm2d(h_dim // 2),\n",
        "            nn.ReLU(),\n",
        "            nn.Conv2d(h_dim // 2, h_dim, kernel_size=4, stride=2, padding=1),\n",
        "            nn.BatchNorm2d(h_dim),\n",
        "            nn.ReLU(),\n",
        "            nn.Conv2d(h_dim, h_dim, kernel_size = 3, stride = 1, padding = 1),\n",
        "            nn.BatchNorm2d(h_dim),\n",
        "            ResidualLayers(h_dim, h_dim, res_h_dim, n_res_layers)\n",
        "        ) \n",
        "\n",
        "    def forward(self, x):\n",
        "      return self.conv_block(x)"
      ]
    },
    {
      "cell_type": "markdown",
      "metadata": {
        "id": "4i8tFO_1rEUP"
      },
      "source": [
        "## [Important] Vector Quantizer:"
      ]
    },
    {
      "cell_type": "markdown",
      "metadata": {
        "id": "FPDSL9TSbXwi"
      },
      "source": [
        "Recall that loss is defined as:\n",
        "\n",
        "$$Recon(x, \\hat{x}) + ||sg(z_e(x)) - e||_2^2 + \\beta ||z_e(x) - e||_2^2$$\n",
        "\n",
        "Where the first term is our codebook loss to keep our codebook close to our encoder outputs, and the third term is keep our codebook committed to a discrete distribution. Note that we are going to be quantizing over each individual channel pixel, so we we sample a channel from the discrete distribution. If the original image size is say for example $[64, 3, 32, 32]$, we first rearrange it to have each element be a channel pixel, i.e $[64, 32, 32, 3]$, then flatten it to get each individuala channel yielding $[64 * 32 * 32, 3]$. Now we have $64 * 32 * 32$ seperate channel pixels to query from the latent distribution, and map them to its closest latent distribution value. It should be noted that the outputs from the gradient wont have any actual gradients, because of the nearest neighbor sampling. To deal with this, we copy the gradient from the outputs to the inputs. In other words, we do:\n",
        "\n",
        "$$e := z_e(x) + sg(e - z_e(x))$$\n",
        "\n",
        "This allows the gradients of $e$ to be copied over to $z_e(x)$ and backprop to our encoder. In this problem, you will code the the vector quantitization modules to sample the latent space"
      ]
    },
    {
      "cell_type": "markdown",
      "metadata": {
        "id": "a-6kXfmTrEUP"
      },
      "source": [
        "### Concept Check 3.2.1-3.2.3"
      ]
    },
    {
      "cell_type": "code",
      "execution_count": 8,
      "metadata": {
        "id": "Tak01lnW8LnJ"
      },
      "outputs": [],
      "source": [
        "class VectorQuantizer(nn.Module):\n",
        "    def __init__(self, num_embeddings, embedding_dim, commitment_cost):\n",
        "        super(VectorQuantizer, self).__init__()\n",
        "        \n",
        "        self._embedding_dim = embedding_dim\n",
        "        self._num_embeddings = num_embeddings\n",
        "        \n",
        "        self._embedding = nn.Embedding(self._num_embeddings, self._embedding_dim)\n",
        "        self._embedding.weight.data.uniform_(-1/self._num_embeddings, 1/self._num_embeddings)\n",
        "        self._commitment_cost = commitment_cost\n",
        "\n",
        "    def forward(self, inputs):\n",
        "        # convert inputs from BCHW -> BHWC\n",
        "        inputs = inputs.permute(0, 2, 3, 1).contiguous()\n",
        "        input_shape = inputs.shape\n",
        "        \n",
        "        # Flatten input\n",
        "        flat_input = inputs.view(-1, self._embedding_dim)\n",
        "        \n",
        "        # Calculate distances\n",
        "        distances = (torch.sum(flat_input**2, dim=1, keepdim=True) \n",
        "                    + torch.sum(self._embedding.weight**2, dim=1)\n",
        "                    - 2 * torch.matmul(flat_input, self._embedding.weight.t()))\n",
        "            \n",
        "        # Encoding\n",
        "        encoding_indices = torch.argmin(distances, dim=1).unsqueeze(1) \n",
        "        encodings = torch.zeros(encoding_indices.shape[0], self._num_embeddings, device=inputs.device)\n",
        "        encodings.scatter_(1, encoding_indices, 1)\n",
        "        \n",
        "        # Quantize and unflatten\n",
        "        quantized = torch.matmul(encodings, self._embedding.weight).view(input_shape)\n",
        "        \n",
        "        # Loss\n",
        "        e_latent_loss = F.mse_loss(quantized.detach(), inputs)\n",
        "        q_latent_loss = F.mse_loss(quantized, inputs.detach())\n",
        "        loss = q_latent_loss + self._commitment_cost * e_latent_loss\n",
        "        \n",
        "        quantized = inputs + (quantized - inputs).detach() #allows for copied gradients\n",
        "        avg_probs = torch.mean(encodings, dim=0)\n",
        "        perplexity = torch.exp(-torch.sum(avg_probs * torch.log(avg_probs + 1e-10)))\n",
        "        \n",
        "        # convert quantized from BHWC -> BCHW\n",
        "        return loss, quantized.permute(0, 3, 1, 2).contiguous(), perplexity, encodings"
      ]
    },
    {
      "cell_type": "markdown",
      "metadata": {
        "id": "DczK3oFwrEUQ"
      },
      "source": [
        "## The Decoder Class"
      ]
    },
    {
      "cell_type": "markdown",
      "metadata": {
        "id": "7ypFbXbOC0vu"
      },
      "source": [
        "Uses the sampled discrete distribution and reconstruct the image."
      ]
    },
    {
      "cell_type": "code",
      "execution_count": 9,
      "metadata": {
        "id": "Ry4h3vBLCihl"
      },
      "outputs": [],
      "source": [
        "class Decoder(nn.Module):\n",
        "    def __init__(self, in_dim, h_dim, n_res_layers, res_h_dim):\n",
        "        super(Decoder, self).__init__()\n",
        "        kernel = 4\n",
        "        stride = 2\n",
        "\n",
        "        self.inverse_conv_stack = nn.Sequential(\n",
        "            nn.ConvTranspose2d(\n",
        "                in_dim, h_dim, kernel_size=kernel-1, stride=stride-1, padding=1),\n",
        "            ResidualLayers(h_dim, h_dim, res_h_dim, n_res_layers),\n",
        "            nn.ConvTranspose2d(h_dim, h_dim // 2,\n",
        "                               kernel_size=kernel, stride=stride, padding=1),\n",
        "            nn.ReLU(),\n",
        "            nn.ConvTranspose2d(h_dim//2, 3, kernel_size=kernel,\n",
        "                               stride=stride, padding=1)\n",
        "        )\n",
        "\n",
        "    def forward(self, x):\n",
        "        return self.inverse_conv_stack(x)"
      ]
    },
    {
      "cell_type": "markdown",
      "metadata": {
        "id": "YiaoVIaArEUQ"
      },
      "source": [
        "## The VQAE Module"
      ]
    },
    {
      "cell_type": "markdown",
      "metadata": {
        "id": "Cz0zHXPPDGLv"
      },
      "source": [
        "This is the main module for the VQ-VAE. The model consists of \n",
        "\n",
        "$$Encoder \\to VectorQuantitization \\to Decoder \\to \\hat{x}$$\n",
        "\n",
        "Each image will have its own discrete mapping. Let $f_{vq}(x)$ be the discrete mapping from an image $x$ to its discrete mapping. Once the model is trained, we will have good mappings for $x \\to f_{vq}(x)$. However, to actually sample from the VQ-VAE, we need to learn patterns from the learned $f_{vq}(x)$. Once we can sample $f_{vq}$ perhaps using PixelCNN, we can send it into the decoder."
      ]
    },
    {
      "cell_type": "code",
      "execution_count": 10,
      "metadata": {
        "id": "uz6Pv4qLB6iO"
      },
      "outputs": [],
      "source": [
        "class VQVAE(nn.Module):\n",
        "    def __init__(self, h_dim, res_h_dim, n_res_layers,\n",
        "                 n_embeddings, embedding_dim, beta, save_img_embedding_map=False):\n",
        "        super(VQVAE, self).__init__()\n",
        "        # encode image into continuous latent space\n",
        "        self.encoder = Encoder(3, h_dim, n_res_layers, res_h_dim)\n",
        "        self.pre_quantization_conv = nn.Conv2d(\n",
        "            h_dim, embedding_dim, kernel_size=1, stride=1)\n",
        "        # pass continuous latent vector through discretization bottleneck\n",
        "        self.vector_quantization = VectorQuantizer(\n",
        "            n_embeddings, embedding_dim, beta)\n",
        "        # decode the discrete latent representation\n",
        "        self.decoder = Decoder(embedding_dim, h_dim, n_res_layers, res_h_dim)\n",
        "\n",
        "        if save_img_embedding_map:\n",
        "            self.img_to_embedding_map = {i: [] for i in range(n_embeddings)}\n",
        "        else:\n",
        "            self.img_to_embedding_map = None\n",
        "\n",
        "    def forward(self, x, verbose=False):\n",
        "\n",
        "        z_e = self.encoder(x)\n",
        "\n",
        "        z_e = self.pre_quantization_conv(z_e)\n",
        "        embedding_loss, z_q, perplexity, _ = self.vector_quantization(z_e)\n",
        "        x_hat = self.decoder(z_q)\n",
        "\n",
        "        return embedding_loss, x_hat, perplexity"
      ]
    },
    {
      "cell_type": "markdown",
      "metadata": {
        "id": "7bsT6nrBzO5R"
      },
      "source": [
        "**Downloading and normalizing the CIFAR 10 Dataset**"
      ]
    },
    {
      "cell_type": "code",
      "execution_count": 11,
      "metadata": {
        "colab": {
          "base_uri": "https://localhost:8080/"
        },
        "id": "FF75B3AvC2fO",
        "outputId": "0ec3cef8-0691-4908-f177-60da349b2f76"
      },
      "outputs": [
        {
          "name": "stdout",
          "output_type": "stream",
          "text": [
            "Files already downloaded and verified\n",
            "Files already downloaded and verified\n"
          ]
        },
        {
          "data": {
            "text/plain": [
              "0.06328692405746414"
            ]
          },
          "execution_count": 11,
          "metadata": {},
          "output_type": "execute_result"
        }
      ],
      "source": [
        "training_data = torchvision.datasets.CIFAR10(root=\"data\", train=True, download=True,\n",
        "                                  transform=transforms.Compose([\n",
        "                                      transforms.ToTensor(),\n",
        "                                      transforms.Normalize((0.5,0.5,0.5), (1.0,1.0,1.0))\n",
        "                                  ]))\n",
        "\n",
        "validation_data = torchvision.datasets.CIFAR10(root=\"data\", train=False, download=True,\n",
        "                                  transform=transforms.Compose([\n",
        "                                      transforms.ToTensor(),\n",
        "                                      transforms.Normalize((0.5,0.5,0.5), (1.0,1.0,1.0))\n",
        "                                  ]))\n",
        "data_variance = np.var(training_data.data / 255.0)\n",
        "data_variance"
      ]
    },
    {
      "cell_type": "markdown",
      "metadata": {
        "id": "4_cR-9VXvzNn"
      },
      "source": [
        "## Define our Hyperparameters \n",
        "You should be able to get a validation loss of 0.35. The solution hyperparameters gets a validation loss of 0.1 in 6 epochs."
      ]
    },
    {
      "cell_type": "code",
      "execution_count": 12,
      "metadata": {
        "id": "KI3huZC2E2Bb"
      },
      "outputs": [],
      "source": [
        "batch_size = 64\n",
        "n_hiddens = 64\n",
        "n_residual_hiddens = 32\n",
        "n_residual_layers = 2\n",
        "embedding_dim = 64\n",
        "n_embeddings = 512\n",
        "beta = .25\n",
        "lr = 3e-3\n",
        "epochs = 6"
      ]
    },
    {
      "cell_type": "code",
      "execution_count": 13,
      "metadata": {
        "colab": {
          "base_uri": "https://localhost:8080/"
        },
        "id": "Xc61mXPKI3yJ",
        "outputId": "bb41cd27-1e44-4ea6-87dd-5a21686dafcb"
      },
      "outputs": [
        {
          "name": "stderr",
          "output_type": "stream",
          "text": [
            "100%|██████████| 782/782 [01:27<00:00,  8.96batch/s, loss=0.366]\n"
          ]
        },
        {
          "name": "stdout",
          "output_type": "stream",
          "text": [
            "Validation Loss: 0.2568441730499269\n"
          ]
        },
        {
          "name": "stderr",
          "output_type": "stream",
          "text": [
            "100%|██████████| 782/782 [01:27<00:00,  8.93batch/s, loss=0.234]\n"
          ]
        },
        {
          "name": "stdout",
          "output_type": "stream",
          "text": [
            "Validation Loss: 0.1609311927795411\n"
          ]
        },
        {
          "name": "stderr",
          "output_type": "stream",
          "text": [
            "100%|██████████| 782/782 [01:30<00:00,  8.60batch/s, loss=0.27] \n"
          ]
        },
        {
          "name": "stdout",
          "output_type": "stream",
          "text": [
            "Validation Loss: 0.14025214843750003\n"
          ]
        },
        {
          "name": "stderr",
          "output_type": "stream",
          "text": [
            "100%|██████████| 782/782 [01:31<00:00,  8.53batch/s, loss=0.241]\n"
          ]
        },
        {
          "name": "stdout",
          "output_type": "stream",
          "text": [
            "Validation Loss: 0.14865587248802195\n"
          ]
        },
        {
          "name": "stderr",
          "output_type": "stream",
          "text": [
            "100%|██████████| 782/782 [01:36<00:00,  8.11batch/s, loss=0.404]\n"
          ]
        },
        {
          "name": "stdout",
          "output_type": "stream",
          "text": [
            "Validation Loss: 0.2249293106079103\n"
          ]
        },
        {
          "name": "stderr",
          "output_type": "stream",
          "text": [
            "100%|██████████| 782/782 [01:31<00:00,  8.55batch/s, loss=0.371]\n"
          ]
        },
        {
          "name": "stdout",
          "output_type": "stream",
          "text": [
            "Validation Loss: 0.15255817451477047\n"
          ]
        }
      ],
      "source": [
        "vqvae = VQVAE(n_hiddens, n_residual_hiddens, n_residual_layers,\n",
        "              n_embeddings, embedding_dim, \n",
        "              beta).to(device)\n",
        "train_loader = torch.utils.data.DataLoader(training_data, batch_size = batch_size, shuffle = True)\n",
        "validation_loader = torch.utils.data.DataLoader(validation_data,batch_size= batch_size,shuffle=True)\n",
        "optimizer = torch.optim.Adam(vqvae.parameters(), lr=lr, amsgrad=False)\n",
        "\n",
        "train_res_recon_error = []\n",
        "test_res_recon_error = []\n",
        "for epoch in range(epochs):\n",
        "    with tqdm(train_loader, unit=\"batch\") as tepoch:\n",
        "        vqvae.train()\n",
        "        for data, target in tepoch:\n",
        "            data = data.to(device)\n",
        "            optimizer.zero_grad()\n",
        "\n",
        "            vq_loss, data_recon, perplexity = vqvae(data)\n",
        "            recon_error = F.mse_loss(data_recon, data) / data_variance\n",
        "            loss = recon_error + vq_loss\n",
        "            loss.backward()\n",
        "\n",
        "            optimizer.step()\n",
        "            tepoch.set_postfix(loss=float(loss.detach().cpu()))\n",
        "            train_res_recon_error.append(recon_error.item())\n",
        "\n",
        "    avg_loss = 0\n",
        "    vqvae.eval()\n",
        "    with torch.no_grad():\n",
        "      for data, target in validation_loader:\n",
        "          data = data.to(device)\n",
        "\n",
        "          vq_loss, data_recon, perplexity = vqvae(data)\n",
        "          recon_error = F.mse_loss(data_recon, data) / data_variance\n",
        "          loss = recon_error.item() * batch_size\n",
        "\n",
        "          avg_loss += loss / len(validation_data)\n",
        "          test_res_recon_error.append(loss)\n",
        "    \n",
        "    print(f'Validation Loss: {avg_loss}')\n"
      ]
    },
    {
      "cell_type": "code",
      "execution_count": 14,
      "metadata": {
        "colab": {
          "base_uri": "https://localhost:8080/",
          "height": 881
        },
        "id": "fTIFzi1F69-P",
        "outputId": "8338d4f4-f623-47b0-a903-edecd77a2798"
      },
      "outputs": [
        {
          "ename": "",
          "evalue": "",
          "output_type": "error",
          "traceback": [
            "\u001b[1;31mCanceled future for execute_request message before replies were done"
          ]
        },
        {
          "ename": "",
          "evalue": "",
          "output_type": "error",
          "traceback": [
            "\u001b[1;31mThe Kernel crashed while executing code in the the current cell or a previous cell. Please review the code in the cell(s) to identify a possible cause of the failure. Click <a href='https://aka.ms/vscodeJupyterKernelCrash'>here</a> for more info. View Jupyter <a href='command:jupyter.viewOutput'>log</a> for further details."
          ]
        }
      ],
      "source": [
        "plt.plot(train_res_recon_error)\n",
        "plt.xlabel('Batches')\n",
        "plt.ylabel('Training Reconstruction Error')\n",
        "plt.show()\n",
        "\n",
        "plt.plot(test_res_recon_error)\n",
        "plt.xlabel('batches')\n",
        "plt.ylabel('Test Reconstruction Error')\n",
        "plt.show()"
      ]
    },
    {
      "cell_type": "markdown",
      "metadata": {
        "id": "d2mWiTlh1Gio"
      },
      "source": [
        "##Visualize Decoded Images"
      ]
    },
    {
      "cell_type": "code",
      "execution_count": 1,
      "metadata": {
        "colab": {
          "base_uri": "https://localhost:8080/",
          "height": 326
        },
        "id": "XeVk9CcrKLhz",
        "outputId": "33ccb0b6-8177-4411-f84e-db36ec856b41"
      },
      "outputs": [
        {
          "ename": "NameError",
          "evalue": "name 'vqvae' is not defined",
          "output_type": "error",
          "traceback": [
            "\u001b[1;31m---------------------------------------------------------------------------\u001b[0m",
            "\u001b[1;31mNameError\u001b[0m                                 Traceback (most recent call last)",
            "Cell \u001b[1;32mIn[1], line 1\u001b[0m\n\u001b[1;32m----> 1\u001b[0m vqvae\u001b[39m.\u001b[39meval()\n\u001b[0;32m      2\u001b[0m validation_loader \u001b[39m=\u001b[39m torch\u001b[39m.\u001b[39mutils\u001b[39m.\u001b[39mdata\u001b[39m.\u001b[39mDataLoader(validation_data,batch_size\u001b[39m=\u001b[39m\u001b[39m16\u001b[39m,shuffle\u001b[39m=\u001b[39m\u001b[39mTrue\u001b[39;00m)\n\u001b[0;32m      3\u001b[0m (valid_originals, _) \u001b[39m=\u001b[39m \u001b[39mnext\u001b[39m(\u001b[39miter\u001b[39m(validation_loader))\n",
            "\u001b[1;31mNameError\u001b[0m: name 'vqvae' is not defined"
          ]
        }
      ],
      "source": [
        "vqvae.eval()\n",
        "validation_loader = torch.utils.data.DataLoader(validation_data,batch_size=16,shuffle=True)\n",
        "(valid_originals, _) = next(iter(validation_loader))\n",
        "valid_originals = valid_originals.to(device)\n",
        "\n",
        "_, valid_recon, _ = vqvae(valid_originals)\n",
        "def show(img):\n",
        "    npimg = img.numpy()\n",
        "    fig = plt.imshow(np.transpose(npimg, (1,2,0)), interpolation='nearest')\n",
        "    fig.axes.get_xaxis().set_visible(False)\n",
        "    fig.axes.get_yaxis().set_visible(False)\n",
        "\n",
        "show(torchvision.utils.make_grid(valid_recon.cpu().data) + 0.5, )\n",
        "plt.show()\n",
        "show(torchvision.utils.make_grid(valid_originals.cpu())+0.5, )\n",
        "plt.show()"
      ]
    },
    {
      "cell_type": "markdown",
      "metadata": {
        "id": "ZSj5p_My600t"
      },
      "source": [
        "##Sampling Uniformly From Latent Distribution"
      ]
    },
    {
      "cell_type": "code",
      "execution_count": 152,
      "metadata": {
        "colab": {
          "base_uri": "https://localhost:8080/",
          "height": 465
        },
        "id": "CL5p7gOMrtIe",
        "outputId": "255198a3-a6e4-46e9-eec2-adc49ad9fe1c"
      },
      "outputs": [
        {
          "name": "stderr",
          "output_type": "stream",
          "text": [
            "WARNING:matplotlib.image:Clipping input data to the valid range for imshow with RGB data ([0..1] for floats or [0..255] for integers).\n"
          ]
        },
        {
          "data": {
            "text/plain": [
              "<matplotlib.image.AxesImage at 0x7f485e3104c0>"
            ]
          },
          "execution_count": 152,
          "metadata": {},
          "output_type": "execute_result"
        },
        {
          "data": {
            "image/png": "[encoded data removed]",
            "text/plain": [
              "<Figure size 640x480 with 1 Axes>"
            ]
          },
          "metadata": {},
          "output_type": "display_data"
        }
      ],
      "source": [
        "def sample_model(model):\n",
        "    #sample 8 x 8 embedding vectors\n",
        "    encoding_indices = torch.argmin(torch.rand(size = [8 * 8, n_embeddings]), dim=1).to(device).unsqueeze(1)\n",
        "    encodings = torch.zeros(encoding_indices.shape[0], n_embeddings, device=device)\n",
        "    encodings.scatter_(1, encoding_indices, 1)\n",
        "    quantized = torch.matmul(encodings, model.vector_quantization._embedding.weight).view(1, 8, 8, 64)\n",
        "    quantized = quantized.permute(0, 3, 1, 2).contiguous()\n",
        "    z_e = model.decoder(quantized)\n",
        "    return z_e\n",
        "    \n",
        "plt.imshow(sample_model(vqvae).squeeze(0).permute(1, 2, 0).cpu().detach() + 0.5)"
      ]
    },
    {
      "cell_type": "code",
      "execution_count": 22,
      "metadata": {
        "id": "KYTPDKSU4EuV"
      },
      "outputs": [],
      "source": [
        "dl = torch.utils.data.DataLoader(training_data,batch_size=2048,shuffle=True)"
      ]
    },
    {
      "cell_type": "code",
      "execution_count": 23,
      "metadata": {
        "id": "8DgRE31N33V1"
      },
      "outputs": [],
      "source": [
        "out = None\n",
        "with torch.no_grad():\n",
        "  for data, _ in dl:\n",
        "      data = data.to(device)\n",
        "      _, x_hat, _, _ = vqvae.vector_quantization(vqvae.pre_quantization_conv(vqvae.encoder(data)))\n",
        "      if out == None:\n",
        "        out = x_hat.cpu()\n",
        "      else:\n",
        "        out = torch.cat([out, x_hat.cpu()], dim = 0) "
      ]
    },
    {
      "cell_type": "code",
      "execution_count": 24,
      "metadata": {
        "colab": {
          "base_uri": "https://localhost:8080/"
        },
        "id": "NSaVfiRb4cyQ",
        "outputId": "45c8f23b-b82e-4a9e-8534-fd5fa8164e61"
      },
      "outputs": [
        {
          "data": {
            "text/plain": [
              "torch.Size([848, 64, 8, 8])"
            ]
          },
          "execution_count": 24,
          "metadata": {},
          "output_type": "execute_result"
        }
      ],
      "source": [
        "x_hat.shape"
      ]
    },
    {
      "cell_type": "markdown",
      "metadata": {
        "id": "f-ZpJG2OUl5y"
      },
      "source": [
        "### Concept Check 3.2.4"
      ]
    },
    {
      "cell_type": "markdown",
      "metadata": {
        "id": "DqYdj12VrOwB"
      },
      "source": [
        "## Ablations & Visualizations:"
      ]
    },
    {
      "cell_type": "code",
      "execution_count": null,
      "metadata": {
        "id": "eOS3tJZ2wI3V"
      },
      "outputs": [],
      "source": [
        "#Michael, when you make the student copy, replace the below with a comment that says copy over add_noise function from ae_vae notebook"
      ]
    },
    {
      "cell_type": "code",
      "execution_count": 25,
      "metadata": {
        "id": "ZntPH3tLv9y3"
      },
      "outputs": [],
      "source": [
        "def add_noise(tensor, mean=0., std=1., noise_weight=0.5):\n",
        "    noise = torch.randn(tensor.size()) * std + mean\n",
        "    return torch.clip(tensor + noise_weight * noise, 0., 1.)"
      ]
    },
    {
      "cell_type": "markdown",
      "metadata": {
        "id": "5PTk-7uFuhxh"
      },
      "source": [
        "### Quick AE Implementation Using Same Encoder-Decoder Architecture as VQ-VAE:"
      ]
    },
    {
      "cell_type": "code",
      "execution_count": 37,
      "metadata": {
        "id": "TKVNE0PVwSZv"
      },
      "outputs": [],
      "source": [
        "# AE/VAE hyperparams\n",
        "batch_size = 64\n",
        "n_hiddens = 64\n",
        "n_residual_hiddens = 32\n",
        "n_residual_layers = 2\n",
        "embedding_dim = 64\n",
        "code_size=8\n",
        "#n_embeddings = 512\n",
        "#beta = .25\n",
        "#lr = 3e-4\n",
        "\n",
        "epochs = 10\n",
        "lr = 1e-3\n",
        "noise=False\n",
        "lin_dim=256\n",
        "regularization_weight = .0001"
      ]
    },
    {
      "cell_type": "code",
      "execution_count": 38,
      "metadata": {
        "id": "lIIL5Tl7ufve"
      },
      "outputs": [],
      "source": [
        "class AE(nn.Module):\n",
        "    def __init__(self, h_dim, res_h_dim, n_res_layers, embedding_dim, lin_dim):\n",
        "        super().__init__()\n",
        "\n",
        "        self.h_dim = h_dim\n",
        "        # encode image into continuous latent space\n",
        "        self.encoder = Encoder(3, h_dim, n_res_layers, res_h_dim)\n",
        "\n",
        "        #FC Projections\n",
        "        self.fc1 = nn.Linear(h_dim*code_size*code_size, lin_dim)\n",
        "        self.fc2 = nn.Linear(lin_dim, h_dim*code_size*code_size)\n",
        "\n",
        "        # decode the discrete latent representation\n",
        "        self.decoder = Decoder(embedding_dim, h_dim, n_res_layers, res_h_dim)\n",
        "\n",
        "    def encode(self, x):\n",
        "        x = self.encoder(x)\n",
        "        x = x.view(x.shape[0], self.h_dim*code_size*code_size)\n",
        "        return self.fc1(x)\n",
        "\n",
        "    def decode(self, z):\n",
        "        z = self.fc2(z)\n",
        "        z = z.view(x.shape[0], self.h_dim, code_size, code_size)\n",
        "        return self.decoder(z)\n",
        "    \n",
        "    def train_step(self, optimizer, x_in, x_star):\n",
        "        z = self.encode(x_in)\n",
        "        x_hat = self.decode(z)\n",
        "\n",
        "        loss = self.loss(x_star, x_hat)\n",
        "        optimizer.zero_grad()\n",
        "        loss.backward()\n",
        "        optimizer.step()\n",
        "\n",
        "        return loss\n",
        "    \n",
        "    def test_step(self, x):\n",
        "        z = self.encode(x)\n",
        "        x_hat = self.decode(z)\n",
        "        \n",
        "        loss = self.loss(x, x_hat)\n",
        "        return loss\n",
        "    @staticmethod\n",
        "    def loss(x, x_hat):\n",
        "        #Mean-Squared Error Reconstruction Loss\n",
        "        criterion = nn.MSELoss()\n",
        "        return criterion(x, x_hat)"
      ]
    },
    {
      "cell_type": "code",
      "execution_count": 39,
      "metadata": {
        "colab": {
          "base_uri": "https://localhost:8080/"
        },
        "id": "TSJ33rhcvBXD",
        "outputId": "fdfac64c-847d-48c2-b75b-312f7ecfe3a2"
      },
      "outputs": [
        {
          "name": "stdout",
          "output_type": "stream",
          "text": [
            "Epoch 1\n"
          ]
        },
        {
          "name": "stderr",
          "output_type": "stream",
          "text": [
            " 64%|██████▍   | 502/782 [00:25<00:13, 20.40it/s]"
          ]
        },
        {
          "name": "stdout",
          "output_type": "stream",
          "text": [
            "Training loss: 0.02490653097629547\n"
          ]
        },
        {
          "name": "stderr",
          "output_type": "stream",
          "text": [
            "100%|██████████| 782/782 [00:40<00:00, 19.14it/s]\n"
          ]
        },
        {
          "name": "stdout",
          "output_type": "stream",
          "text": [
            "Epoch 2\n"
          ]
        },
        {
          "name": "stderr",
          "output_type": "stream",
          "text": [
            " 28%|██▊       | 220/782 [00:11<00:26, 21.13it/s]"
          ]
        },
        {
          "name": "stdout",
          "output_type": "stream",
          "text": [
            "Training loss: 0.017046688124537468\n"
          ]
        },
        {
          "name": "stderr",
          "output_type": "stream",
          "text": [
            " 92%|█████████▏| 721/782 [00:37<00:02, 20.80it/s]"
          ]
        },
        {
          "name": "stdout",
          "output_type": "stream",
          "text": [
            "Training loss: 0.015022113919258118\n"
          ]
        },
        {
          "name": "stderr",
          "output_type": "stream",
          "text": [
            "100%|██████████| 782/782 [00:40<00:00, 19.41it/s]\n"
          ]
        },
        {
          "name": "stdout",
          "output_type": "stream",
          "text": [
            "Epoch 3\n"
          ]
        },
        {
          "name": "stderr",
          "output_type": "stream",
          "text": [
            " 56%|█████▌    | 438/782 [00:22<00:16, 21.18it/s]"
          ]
        },
        {
          "name": "stdout",
          "output_type": "stream",
          "text": [
            "Training loss: 0.013962574303150177\n"
          ]
        },
        {
          "name": "stderr",
          "output_type": "stream",
          "text": [
            "100%|██████████| 782/782 [00:40<00:00, 19.46it/s]\n"
          ]
        },
        {
          "name": "stdout",
          "output_type": "stream",
          "text": [
            "Epoch 4\n"
          ]
        },
        {
          "name": "stderr",
          "output_type": "stream",
          "text": [
            " 20%|██        | 157/782 [00:07<00:39, 15.90it/s]"
          ]
        },
        {
          "name": "stdout",
          "output_type": "stream",
          "text": [
            "Training loss: 0.009568259119987488\n"
          ]
        },
        {
          "name": "stderr",
          "output_type": "stream",
          "text": [
            " 84%|████████▍ | 657/782 [00:33<00:06, 18.16it/s]"
          ]
        },
        {
          "name": "stdout",
          "output_type": "stream",
          "text": [
            "Training loss: 0.008710354566574097\n"
          ]
        },
        {
          "name": "stderr",
          "output_type": "stream",
          "text": [
            "100%|██████████| 782/782 [00:39<00:00, 19.57it/s]\n"
          ]
        },
        {
          "name": "stdout",
          "output_type": "stream",
          "text": [
            "Epoch 5\n"
          ]
        },
        {
          "name": "stderr",
          "output_type": "stream",
          "text": [
            " 48%|████▊     | 374/782 [00:19<00:20, 19.97it/s]"
          ]
        },
        {
          "name": "stdout",
          "output_type": "stream",
          "text": [
            "Training loss: 0.007598642259836197\n"
          ]
        },
        {
          "name": "stderr",
          "output_type": "stream",
          "text": [
            "100%|██████████| 782/782 [00:40<00:00, 19.24it/s]\n"
          ]
        },
        {
          "name": "stdout",
          "output_type": "stream",
          "text": [
            "Epoch 6\n"
          ]
        },
        {
          "name": "stderr",
          "output_type": "stream",
          "text": [
            " 12%|█▏        | 92/782 [00:04<00:33, 20.51it/s]"
          ]
        },
        {
          "name": "stdout",
          "output_type": "stream",
          "text": [
            "Training loss: 0.007198600098490715\n"
          ]
        },
        {
          "name": "stderr",
          "output_type": "stream",
          "text": [
            " 76%|███████▌  | 594/782 [00:30<00:09, 19.73it/s]"
          ]
        },
        {
          "name": "stdout",
          "output_type": "stream",
          "text": [
            "Training loss: 0.007011658512055874\n"
          ]
        },
        {
          "name": "stderr",
          "output_type": "stream",
          "text": [
            "100%|██████████| 782/782 [00:40<00:00, 19.50it/s]\n"
          ]
        },
        {
          "name": "stdout",
          "output_type": "stream",
          "text": [
            "Epoch 7\n"
          ]
        },
        {
          "name": "stderr",
          "output_type": "stream",
          "text": [
            " 40%|███▉      | 311/782 [00:15<00:22, 20.64it/s]"
          ]
        },
        {
          "name": "stdout",
          "output_type": "stream",
          "text": [
            "Training loss: 0.00629566190764308\n"
          ]
        },
        {
          "name": "stderr",
          "output_type": "stream",
          "text": [
            "100%|██████████| 782/782 [00:40<00:00, 19.45it/s]\n"
          ]
        },
        {
          "name": "stdout",
          "output_type": "stream",
          "text": [
            "Epoch 8\n"
          ]
        },
        {
          "name": "stderr",
          "output_type": "stream",
          "text": [
            "  4%|▎         | 28/782 [00:01<00:37, 20.21it/s]"
          ]
        },
        {
          "name": "stdout",
          "output_type": "stream",
          "text": [
            "Training loss: 0.00575169688090682\n"
          ]
        },
        {
          "name": "stderr",
          "output_type": "stream",
          "text": [
            " 68%|██████▊   | 528/782 [00:28<00:14, 17.69it/s]"
          ]
        },
        {
          "name": "stdout",
          "output_type": "stream",
          "text": [
            "Training loss: 0.005320695694535971\n"
          ]
        },
        {
          "name": "stderr",
          "output_type": "stream",
          "text": [
            "100%|██████████| 782/782 [00:41<00:00, 18.89it/s]\n"
          ]
        },
        {
          "name": "stdout",
          "output_type": "stream",
          "text": [
            "Epoch 9\n"
          ]
        },
        {
          "name": "stderr",
          "output_type": "stream",
          "text": [
            " 32%|███▏      | 248/782 [00:12<00:26, 20.43it/s]"
          ]
        },
        {
          "name": "stdout",
          "output_type": "stream",
          "text": [
            "Training loss: 0.004534989129751921\n"
          ]
        },
        {
          "name": "stderr",
          "output_type": "stream",
          "text": [
            " 96%|█████████▌| 748/782 [00:41<00:01, 20.18it/s]"
          ]
        },
        {
          "name": "stdout",
          "output_type": "stream",
          "text": [
            "Training loss: 0.0043833269737660885\n"
          ]
        },
        {
          "name": "stderr",
          "output_type": "stream",
          "text": [
            "100%|██████████| 782/782 [00:42<00:00, 18.19it/s]\n"
          ]
        },
        {
          "name": "stdout",
          "output_type": "stream",
          "text": [
            "Epoch 10\n"
          ]
        },
        {
          "name": "stderr",
          "output_type": "stream",
          "text": [
            " 59%|█████▉    | 465/782 [00:24<00:16, 18.79it/s]"
          ]
        },
        {
          "name": "stdout",
          "output_type": "stream",
          "text": [
            "Training loss: 0.004710426554083824\n"
          ]
        },
        {
          "name": "stderr",
          "output_type": "stream",
          "text": [
            "100%|██████████| 782/782 [00:41<00:00, 18.73it/s]\n"
          ]
        }
      ],
      "source": [
        "ae = AE(n_hiddens, n_residual_hiddens, n_residual_layers, embedding_dim, lin_dim).to(device)\n",
        "optimizer = torch.optim.Adam(ae.parameters(), lr=lr)\n",
        "# train\n",
        "ae_train_losses = []\n",
        "ae_test_losses = []\n",
        "step = 0\n",
        "report_every = 500\n",
        "for epoch in range(epochs):\n",
        "    print(f\"Epoch {epoch + 1}\")\n",
        "    #train loss:\n",
        "    for x, y in tqdm(train_loader):\n",
        "        x_no_noise = x.to(device)\n",
        "        if noise:\n",
        "            x_in = add_noise(x_no_noise, noise_weight=0.5)\n",
        "        else:\n",
        "            x_in = x_no_noise\n",
        "        loss = ae.train_step(optimizer, x_in=x_in, x_star=x_no_noise)\n",
        "        ae_train_losses.append(loss.cpu().detach().numpy()) #loss every iteration\n",
        "        step += 1\n",
        "        if step % report_every == 0:\n",
        "            print(f\"Training loss: {loss}\")\n",
        "    #ae_train_losses.append(loss.detach().numpy()) #loss after every epoch\n",
        "    #test loss\n",
        "    for b, (X_test, y_test) in enumerate(validation_loader):\n",
        "        X_test = X_test.to(device)\n",
        "        loss = ae.test_step(X_test)\n",
        "        ae_test_losses.append(loss.cpu().detach().numpy()) #loss every iteration\n",
        "    #ae_test_losses.append(loss.detach().numpy()) #loss after every epoch"
      ]
    },
    {
      "cell_type": "markdown",
      "metadata": {
        "id": "ghRxNmUh1q3V"
      },
      "source": [
        "### Quick VAE Implementation Using Same Encoder-Decoder Architecture as VQ-VAE:"
      ]
    },
    {
      "cell_type": "code",
      "execution_count": 124,
      "metadata": {
        "id": "TdCxn2fK1txe"
      },
      "outputs": [],
      "source": [
        "class VAE(nn.Module):\n",
        "    def __init__(self, h_dim, res_h_dim, n_res_layers, embedding_dim):\n",
        "        super().__init__()\n",
        "        self.z_mean = Encoder(3, h_dim, n_res_layers, res_h_dim)\n",
        "        self.z_log_std = Encoder(3, h_dim, n_res_layers, res_h_dim)\n",
        "        self.decoder = Decoder(embedding_dim, h_dim, n_res_layers, res_h_dim)\n",
        "\n",
        "        self.h_dim = h_dim\n",
        "        #FC Projections\n",
        "        self.fc1 = nn.Linear(h_dim*code_size*code_size, lin_dim)\n",
        "        self.fc2 = nn.Linear(lin_dim, h_dim*code_size*code_size)\n",
        "    \n",
        "    def _encode(self, x):\n",
        "        x_mean = self.z_mean(x)\n",
        "        x_flat = x_mean.view(x.shape[0], self.h_dim*code_size*code_size)\n",
        "        z_mean = self.fc1(x_flat)\n",
        "        \n",
        "\n",
        "        x_std = self.z_log_std(x)\n",
        "        x_flat = x_std.view(x.shape[0], self.h_dim*code_size*code_size)\n",
        "        z_log_std = self.fc1(x_flat)\n",
        "        z_log_std = nn.Sigmoid()(z_log_std)\n",
        "        # reparameterization trick\n",
        "        z_std = torch.exp(z_log_std)\n",
        "\n",
        "        eps = torch.randn_like(z_std)\n",
        "        z = z_mean + eps * z_std\n",
        "        # log prob\n",
        "        # 'd' not sampled on purpose\n",
        "        # to show reparameterization trick\n",
        "        d = Independent(Normal(z_mean, z_std), 1)\n",
        "        log_prob = d.log_prob(z)\n",
        "        \n",
        "        return z_mean + eps * z_std, log_prob\n",
        "    \n",
        "    def encode(self, x):\n",
        "        z, _ = self._encode(x)\n",
        "        return z\n",
        "\n",
        "    def decode(self, z):\n",
        "        z = self.fc2(z)\n",
        "        z = z.view(z.shape[0], self.h_dim, code_size, code_size)\n",
        "        return self.decoder(z)\n",
        "    \n",
        "    def train_step(self, optimizer, x_in, x_star):\n",
        "        z, log_prob = self._encode(x_in)\n",
        "        x_hat = self.decode(z)\n",
        "        loss = self.loss(x_star, x_hat, z, log_prob)\n",
        "        optimizer.zero_grad()\n",
        "        loss.backward()\n",
        "        optimizer.step()\n",
        "\n",
        "        return loss\n",
        "    \n",
        "    def test_step(self, x):\n",
        "        z, log_prob = self._encode(x)\n",
        "        x_hat = self.decode(z)\n",
        "        \n",
        "        loss = self.loss(x, x_hat, z, log_prob)\n",
        "        return loss\n",
        "\n",
        "    @staticmethod\n",
        "    def loss(x, x_hat, z, log_prob, kl_weight=regularization_weight):\n",
        "        criterion = nn.MSELoss()\n",
        "        reconst_loss = criterion(x, x_hat)\n",
        "\n",
        "        z_dim = z.shape[-1]\n",
        "        standard_normal = MultivariateNormal(torch.zeros(z_dim).to(device), \n",
        "                                             torch.eye(z_dim).to(device))\n",
        "        #print(MultivariateNormal.device)\n",
        "        kld_loss = (log_prob - standard_normal.log_prob(z)).mean()\n",
        "        \n",
        "        return reconst_loss + kl_weight * kld_loss"
      ]
    },
    {
      "cell_type": "code",
      "execution_count": 126,
      "metadata": {
        "colab": {
          "base_uri": "https://localhost:8080/"
        },
        "id": "UNOM9n2F1t9Y",
        "outputId": "49951aae-2a73-47a8-fc55-af47a9f852c8"
      },
      "outputs": [
        {
          "name": "stdout",
          "output_type": "stream",
          "text": [
            "Epoch 1\n"
          ]
        },
        {
          "name": "stderr",
          "output_type": "stream",
          "text": [
            " 64%|██████▍   | 502/782 [00:42<00:21, 13.25it/s]"
          ]
        },
        {
          "name": "stdout",
          "output_type": "stream",
          "text": [
            "Training loss: 0.05984035134315491\n"
          ]
        },
        {
          "name": "stderr",
          "output_type": "stream",
          "text": [
            "100%|██████████| 782/782 [01:05<00:00, 12.01it/s]\n"
          ]
        },
        {
          "name": "stdout",
          "output_type": "stream",
          "text": [
            "Epoch 2\n"
          ]
        },
        {
          "name": "stderr",
          "output_type": "stream",
          "text": [
            " 28%|██▊       | 219/782 [00:17<00:52, 10.76it/s]"
          ]
        },
        {
          "name": "stdout",
          "output_type": "stream",
          "text": [
            "Training loss: 0.05778389796614647\n"
          ]
        },
        {
          "name": "stderr",
          "output_type": "stream",
          "text": [
            " 92%|█████████▏| 719/782 [00:59<00:04, 12.86it/s]"
          ]
        },
        {
          "name": "stdout",
          "output_type": "stream",
          "text": [
            "Training loss: 0.030350524932146072\n"
          ]
        },
        {
          "name": "stderr",
          "output_type": "stream",
          "text": [
            "100%|██████████| 782/782 [01:04<00:00, 12.08it/s]\n"
          ]
        },
        {
          "name": "stdout",
          "output_type": "stream",
          "text": [
            "Epoch 3\n"
          ]
        },
        {
          "name": "stderr",
          "output_type": "stream",
          "text": [
            " 56%|█████▌    | 437/782 [00:41<00:28, 12.27it/s]"
          ]
        },
        {
          "name": "stdout",
          "output_type": "stream",
          "text": [
            "Training loss: 0.02998420223593712\n"
          ]
        },
        {
          "name": "stderr",
          "output_type": "stream",
          "text": [
            "100%|██████████| 782/782 [01:10<00:00, 11.04it/s]\n"
          ]
        },
        {
          "name": "stdout",
          "output_type": "stream",
          "text": [
            "Epoch 4\n"
          ]
        },
        {
          "name": "stderr",
          "output_type": "stream",
          "text": [
            " 20%|█▉        | 156/782 [00:13<00:51, 12.25it/s]"
          ]
        },
        {
          "name": "stdout",
          "output_type": "stream",
          "text": [
            "Training loss: 0.03141605854034424\n"
          ]
        },
        {
          "name": "stderr",
          "output_type": "stream",
          "text": [
            " 84%|████████▍ | 656/782 [00:57<00:10, 11.86it/s]"
          ]
        },
        {
          "name": "stdout",
          "output_type": "stream",
          "text": [
            "Training loss: 0.02857068181037903\n"
          ]
        },
        {
          "name": "stderr",
          "output_type": "stream",
          "text": [
            "100%|██████████| 782/782 [01:08<00:00, 11.44it/s]\n"
          ]
        },
        {
          "name": "stdout",
          "output_type": "stream",
          "text": [
            "Epoch 5\n"
          ]
        },
        {
          "name": "stderr",
          "output_type": "stream",
          "text": [
            " 48%|████▊     | 374/782 [00:41<00:31, 12.86it/s]"
          ]
        },
        {
          "name": "stdout",
          "output_type": "stream",
          "text": [
            "Training loss: 0.028549237176775932\n"
          ]
        },
        {
          "name": "stderr",
          "output_type": "stream",
          "text": [
            "100%|██████████| 782/782 [01:22<00:00,  9.44it/s]\n"
          ]
        },
        {
          "name": "stdout",
          "output_type": "stream",
          "text": [
            "Epoch 6\n"
          ]
        },
        {
          "name": "stderr",
          "output_type": "stream",
          "text": [
            " 12%|█▏        | 90/782 [00:07<01:07, 10.21it/s]"
          ]
        },
        {
          "name": "stdout",
          "output_type": "stream",
          "text": [
            "Training loss: 0.05011133849620819\n"
          ]
        },
        {
          "name": "stderr",
          "output_type": "stream",
          "text": [
            " 76%|███████▌  | 592/782 [00:53<00:14, 12.86it/s]"
          ]
        },
        {
          "name": "stdout",
          "output_type": "stream",
          "text": [
            "Training loss: 0.030071929097175598\n"
          ]
        },
        {
          "name": "stderr",
          "output_type": "stream",
          "text": [
            "100%|██████████| 782/782 [01:12<00:00, 10.73it/s]\n"
          ]
        },
        {
          "name": "stdout",
          "output_type": "stream",
          "text": [
            "Epoch 7\n"
          ]
        },
        {
          "name": "stderr",
          "output_type": "stream",
          "text": [
            " 39%|███▉      | 308/782 [00:28<00:46, 10.27it/s]"
          ]
        },
        {
          "name": "stdout",
          "output_type": "stream",
          "text": [
            "Training loss: 0.029282130300998688\n"
          ]
        },
        {
          "name": "stderr",
          "output_type": "stream",
          "text": [
            "100%|██████████| 782/782 [01:21<00:00,  9.63it/s]\n"
          ]
        },
        {
          "name": "stdout",
          "output_type": "stream",
          "text": [
            "Epoch 8\n"
          ]
        },
        {
          "name": "stderr",
          "output_type": "stream",
          "text": [
            "  3%|▎         | 27/782 [00:03<01:24,  8.97it/s]"
          ]
        },
        {
          "name": "stdout",
          "output_type": "stream",
          "text": [
            "Training loss: 0.027521438896656036\n"
          ]
        },
        {
          "name": "stderr",
          "output_type": "stream",
          "text": [
            " 67%|██████▋   | 527/782 [00:45<00:19, 12.82it/s]"
          ]
        },
        {
          "name": "stdout",
          "output_type": "stream",
          "text": [
            "Training loss: 0.02919202670454979\n"
          ]
        },
        {
          "name": "stderr",
          "output_type": "stream",
          "text": [
            "100%|██████████| 782/782 [01:12<00:00, 10.72it/s]\n"
          ]
        },
        {
          "name": "stdout",
          "output_type": "stream",
          "text": [
            "Epoch 9\n"
          ]
        },
        {
          "name": "stderr",
          "output_type": "stream",
          "text": [
            " 31%|███▏      | 245/782 [00:21<00:43, 12.27it/s]"
          ]
        },
        {
          "name": "stdout",
          "output_type": "stream",
          "text": [
            "Training loss: 0.05213825777173042\n"
          ]
        },
        {
          "name": "stderr",
          "output_type": "stream",
          "text": [
            " 95%|█████████▌| 746/782 [01:05<00:03, 11.92it/s]"
          ]
        },
        {
          "name": "stdout",
          "output_type": "stream",
          "text": [
            "Training loss: 0.04307831823825836\n"
          ]
        },
        {
          "name": "stderr",
          "output_type": "stream",
          "text": [
            "100%|██████████| 782/782 [01:08<00:00, 11.49it/s]\n"
          ]
        },
        {
          "name": "stdout",
          "output_type": "stream",
          "text": [
            "Epoch 10\n"
          ]
        },
        {
          "name": "stderr",
          "output_type": "stream",
          "text": [
            " 59%|█████▉    | 463/782 [00:46<00:26, 12.15it/s]"
          ]
        },
        {
          "name": "stdout",
          "output_type": "stream",
          "text": [
            "Training loss: 0.03928890824317932\n"
          ]
        },
        {
          "name": "stderr",
          "output_type": "stream",
          "text": [
            "100%|██████████| 782/782 [01:16<00:00, 10.17it/s]\n"
          ]
        }
      ],
      "source": [
        "vae = VAE(n_hiddens, n_residual_hiddens, n_residual_layers, embedding_dim).to(device)\n",
        "optimizer = torch.optim.Adam(vae.parameters(), lr=lr)\n",
        "\n",
        "# train\n",
        "vae_train_losses = []\n",
        "vae_test_losses = []\n",
        "step = 0\n",
        "report_every = 500\n",
        "for epoch in range(epochs):\n",
        "    print(f\"Epoch {epoch + 1}\")\n",
        "    #train loss:\n",
        "    for x, y in tqdm(train_loader):\n",
        "        x_no_noise = x.to(device)\n",
        "        if noise:\n",
        "            x_in = add_noise(x_no_noise, noise_weight=0.5)\n",
        "        else:\n",
        "            x_in = x_no_noise\n",
        "        loss = vae.train_step(optimizer, x_in=x_in, x_star=x_no_noise)\n",
        "        vae_train_losses.append(loss.cpu().detach().numpy()) #loss every iteration\n",
        "        step += 1\n",
        "        if step % report_every == 0:\n",
        "            print(f\"Training loss: {loss}\")\n",
        "    #vae_train_losses.append(loss.detach().numpy()) #loss after every epoch\n",
        "    #test loss\n",
        "    for b, (X_test, y_test) in enumerate(validation_loader):\n",
        "        X_test = X_test.to(device)\n",
        "        loss = vae.test_step(X_test)\n",
        "        vae_test_losses.append(loss.cpu().detach().numpy()) #loss every iteration\n",
        "    #vae_test_losses.append(loss.detach().numpy()) #loss after every epoch"
      ]
    },
    {
      "cell_type": "markdown",
      "metadata": {
        "id": "Dg3ZiwIe4ojg"
      },
      "source": [
        "### 1. Loss Visualization (AE vs. VAE vs. VQVAE):"
      ]
    },
    {
      "cell_type": "code",
      "execution_count": 153,
      "metadata": {
        "colab": {
          "base_uri": "https://localhost:8080/",
          "height": 872
        },
        "id": "VS1f1u1kREOL",
        "outputId": "a47e86bb-e3d5-4d45-a74f-a4caf77f8456"
      },
      "outputs": [
        {
          "data": {
            "image/png": "[encoded data removed]",
            "text/plain": [
              "<Figure size 800x1000 with 2 Axes>"
            ]
          },
          "metadata": {},
          "output_type": "display_data"
        }
      ],
      "source": [
        "with torch.no_grad():\n",
        "    fig, ax = plt.subplots(2, figsize=(8,10))\n",
        "    ax[0].plot(ae_train_losses, label=\"AE\")\n",
        "    ax[0].plot(vae_train_losses, label=\"VAE\")\n",
        "    ax[0].plot(train_res_recon_error, label=\"VQ-VAE\")\n",
        "    ax[0].set_title(\"Train Losses\")\n",
        "    ax[0].set_ylabel(\"Train Loss\")\n",
        "    ax[0].set_xlabel(\"Iteration\")\n",
        "    ax[0].legend()\n",
        "    \n",
        "    ax[1].plot(ae_test_losses, label=\"AE\")\n",
        "    ax[1].plot(vae_test_losses, label=\"VAE\")\n",
        "    ax[1].plot(test_res_recon_error, label=\"VQ-VAE\")\n",
        "    ax[1].set_title(\"Test Losses\")\n",
        "    ax[1].set_ylabel(\"Test Loss\")\n",
        "    ax[1].set_xlabel(\"Iteration\")\n",
        "    ax[1].legend()\n",
        "\n",
        "#Note: if you want per epoch (or avg. epoch) losses, you will have to change the above code somewhat"
      ]
    },
    {
      "cell_type": "markdown",
      "metadata": {
        "id": "JxF9Z6bjrEUS"
      },
      "source": [
        "### 2. Reconstruction Visualization (AE vs. VAE vs. VQVAE):"
      ]
    },
    {
      "cell_type": "code",
      "execution_count": 141,
      "metadata": {
        "colab": {
          "base_uri": "https://localhost:8080/",
          "height": 282
        },
        "id": "MJp6wseCRnqj",
        "outputId": "6d5e25e5-12f4-4770-f3f6-8156b043fcfb"
      },
      "outputs": [
        {
          "name": "stderr",
          "output_type": "stream",
          "text": [
            "WARNING:matplotlib.image:Clipping input data to the valid range for imshow with RGB data ([0..1] for floats or [0..255] for integers).\n",
            "WARNING:matplotlib.image:Clipping input data to the valid range for imshow with RGB data ([0..1] for floats or [0..255] for integers).\n",
            "WARNING:matplotlib.image:Clipping input data to the valid range for imshow with RGB data ([0..1] for floats or [0..255] for integers).\n",
            "WARNING:matplotlib.image:Clipping input data to the valid range for imshow with RGB data ([0..1] for floats or [0..255] for integers).\n"
          ]
        },
        {
          "name": "stdout",
          "output_type": "stream",
          "text": [
            "Labels: tensor([9, 4, 0, 4, 9, 5, 1, 9, 8, 1])\n"
          ]
        },
        {
          "data": {
            "image/png": "[encoded data removed]",
            "text/plain": [
              "<Figure size 4500x450 with 4 Axes>"
            ]
          },
          "metadata": {},
          "output_type": "display_data"
        }
      ],
      "source": [
        "#Visualize the samples in bulk:\n",
        "ae.eval()\n",
        "vae.eval()\n",
        "vqvae.eval()\n",
        "with torch.no_grad():\n",
        "    #Grab first batch of images:\n",
        "    for images, labels in validation_loader:\n",
        "        recon_ae = ae.decode(ae.encode(images.to(device)))\n",
        "        recon_vae = vae.decode(vae.encode(images.to(device)))\n",
        "        _, recon_vqvae, _ = vqvae(images.to(device))\n",
        "        break\n",
        "\n",
        "\n",
        "    #Print and show the first 10 samples:\n",
        "\n",
        "    print(f\"Labels: {labels[0:10]}\")\n",
        "    im = make_grid(images[:10], nrow=10)\n",
        "    ae_im = make_grid(recon_ae[:10], nrow=10)\n",
        "    vae_im = make_grid(recon_vae[:10], nrow=10)\n",
        "    vqvae_im = make_grid(recon_vqvae[:10], nrow=10)\n",
        "\n",
        "    fig, ax = plt.subplots(4, figsize=(45,4.5))\n",
        "    fig.tight_layout(pad=1.5)\n",
        "    ax[0].imshow(np.transpose(im.numpy(), (1, 2, 0))) #Remember that default MNIST data is CWH, but matplotlib uses WHC\n",
        "    ax[0].set_title(\"Original:\")\n",
        "\n",
        "    ax[1].imshow(np.transpose(ae_im.cpu().numpy(), (1, 2, 0)))\n",
        "    ax[1].set_title(\"AE Reconstruction:\")\n",
        "    \n",
        "    ax[2].imshow(np.transpose(vae_im.cpu().numpy(), (1, 2, 0)))\n",
        "    ax[2].set_title(\"VAE Reconstruction:\")\n",
        "\n",
        "    ax[2].imshow(np.transpose(vqvae_im.cpu().numpy(), (1, 2, 0)))\n",
        "    ax[2].set_title(\"VQ-VAE Reconstruction:\")"
      ]
    },
    {
      "cell_type": "markdown",
      "metadata": {
        "id": "mQt62NQtrEUS"
      },
      "source": [
        "### 3. Denoising Ablation:"
      ]
    },
    {
      "cell_type": "markdown",
      "metadata": {
        "id": "lP5F8fxCTTmg"
      },
      "source": [
        "Now, let us see the denoising capabilities of these architectures. Go back to the function add_noise in order to add some Gaussian noise to the training data, $X$. You can just copy-paste this from the AE-VAE notebook and set the noise hyperparameter to True. Then, apply this noise to the sample when training."
      ]
    },
    {
      "cell_type": "code",
      "execution_count": 142,
      "metadata": {
        "colab": {
          "base_uri": "https://localhost:8080/",
          "height": 1000
        },
        "id": "TBwLby0sTvmR",
        "outputId": "e771824c-2e68-49cc-8c7f-f910edb27d3c"
      },
      "outputs": [
        {
          "ename": "NameError",
          "evalue": "ignored",
          "output_type": "error",
          "traceback": [
            "\u001b[0;31m---------------------------------------------------------------------------\u001b[0m",
            "\u001b[0;31mNameError\u001b[0m                                 Traceback (most recent call last)",
            "\u001b[0;32m<ipython-input-142-5b0ca65ada68>\u001b[0m in \u001b[0;36m<cell line: 1>\u001b[0;34m()\u001b[0m\n\u001b[1;32m      3\u001b[0m     \u001b[0max\u001b[0m\u001b[0;34m[\u001b[0m\u001b[0;36m0\u001b[0m\u001b[0;34m]\u001b[0m\u001b[0;34m.\u001b[0m\u001b[0mplot\u001b[0m\u001b[0;34m(\u001b[0m\u001b[0mae_train_losses\u001b[0m\u001b[0;34m,\u001b[0m \u001b[0mlabel\u001b[0m\u001b[0;34m=\u001b[0m\u001b[0;34m\"AE\"\u001b[0m\u001b[0;34m)\u001b[0m\u001b[0;34m\u001b[0m\u001b[0;34m\u001b[0m\u001b[0m\n\u001b[1;32m      4\u001b[0m     \u001b[0max\u001b[0m\u001b[0;34m[\u001b[0m\u001b[0;36m0\u001b[0m\u001b[0;34m]\u001b[0m\u001b[0;34m.\u001b[0m\u001b[0mplot\u001b[0m\u001b[0;34m(\u001b[0m\u001b[0mvae_train_losses\u001b[0m\u001b[0;34m,\u001b[0m \u001b[0mlabel\u001b[0m\u001b[0;34m=\u001b[0m\u001b[0;34m\"VAE\"\u001b[0m\u001b[0;34m)\u001b[0m\u001b[0;34m\u001b[0m\u001b[0;34m\u001b[0m\u001b[0m\n\u001b[0;32m----> 5\u001b[0;31m     \u001b[0max\u001b[0m\u001b[0;34m[\u001b[0m\u001b[0;36m0\u001b[0m\u001b[0;34m]\u001b[0m\u001b[0;34m.\u001b[0m\u001b[0mplot\u001b[0m\u001b[0;34m(\u001b[0m\u001b[0mtrain_res_recon_error\u001b[0m\u001b[0;34m,\u001b[0m \u001b[0mlabel\u001b[0m\u001b[0;34m=\u001b[0m\u001b[0;34m\"VQ-VAE\"\u001b[0m\u001b[0;34m)\u001b[0m\u001b[0;34m\u001b[0m\u001b[0;34m\u001b[0m\u001b[0m\n\u001b[0m\u001b[1;32m      6\u001b[0m     \u001b[0max\u001b[0m\u001b[0;34m[\u001b[0m\u001b[0;36m0\u001b[0m\u001b[0;34m]\u001b[0m\u001b[0;34m.\u001b[0m\u001b[0mset_title\u001b[0m\u001b[0;34m(\u001b[0m\u001b[0;34m\"Train Losses\"\u001b[0m\u001b[0;34m)\u001b[0m\u001b[0;34m\u001b[0m\u001b[0;34m\u001b[0m\u001b[0m\n\u001b[1;32m      7\u001b[0m     \u001b[0max\u001b[0m\u001b[0;34m[\u001b[0m\u001b[0;36m0\u001b[0m\u001b[0;34m]\u001b[0m\u001b[0;34m.\u001b[0m\u001b[0mset_ylabel\u001b[0m\u001b[0;34m(\u001b[0m\u001b[0;34m\"Train Loss\"\u001b[0m\u001b[0;34m)\u001b[0m\u001b[0;34m\u001b[0m\u001b[0;34m\u001b[0m\u001b[0m\n",
            "\u001b[0;31mNameError\u001b[0m: name 'train_res_recon_error' is not defined"
          ]
        },
        {
          "data": {
            "image/png": "[encoded data removed]",
            "text/plain": [
              "<Figure size 800x1000 with 2 Axes>"
            ]
          },
          "metadata": {},
          "output_type": "display_data"
        }
      ],
      "source": [
        "with torch.no_grad():\n",
        "    fig, ax = plt.subplots(2, figsize=(8,10))\n",
        "    ax[0].plot(ae_train_losses, label=\"AE\")\n",
        "    ax[0].plot(vae_train_losses, label=\"VAE\")\n",
        "    ax[0].plot(train_res_recon_error, label=\"VQ-VAE\")\n",
        "    ax[0].set_title(\"Train Losses\")\n",
        "    ax[0].set_ylabel(\"Train Loss\")\n",
        "    ax[0].set_xlabel(\"Iteration\")\n",
        "    ax[0].legend()\n",
        "    \n",
        "    ax[1].plot(ae_test_losses, label=\"AE\")\n",
        "    ax[1].plot(vae_test_losses, label=\"VAE\")\n",
        "    ax[1].plot(test_res_recon_error, label=\"VQ-VAE\")\n",
        "    ax[1].set_title(\"Test Losses\")\n",
        "    ax[1].set_ylabel(\"Test Loss\")\n",
        "    ax[1].set_xlabel(\"Iteration\")\n",
        "    ax[1].legend()\n",
        "\n",
        "#Note: if you want per epoch (or avg. epoch) losses, you will have to change the above code somewhat"
      ]
    },
    {
      "cell_type": "code",
      "execution_count": 143,
      "metadata": {
        "colab": {
          "base_uri": "https://localhost:8080/",
          "height": 380
        },
        "id": "7w6rOnxHTv_-",
        "outputId": "a0a07871-bb6c-468b-9648-abdfbfb591eb"
      },
      "outputs": [
        {
          "ename": "RuntimeError",
          "evalue": "ignored",
          "output_type": "error",
          "traceback": [
            "\u001b[0;31m---------------------------------------------------------------------------\u001b[0m",
            "\u001b[0;31mRuntimeError\u001b[0m                              Traceback (most recent call last)",
            "\u001b[0;32m<ipython-input-143-d7f01743195b>\u001b[0m in \u001b[0;36m<cell line: 5>\u001b[0;34m()\u001b[0m\n\u001b[1;32m      6\u001b[0m     \u001b[0;31m#Grab first batch of images:\u001b[0m\u001b[0;34m\u001b[0m\u001b[0;34m\u001b[0m\u001b[0m\n\u001b[1;32m      7\u001b[0m     \u001b[0;32mfor\u001b[0m \u001b[0mimages\u001b[0m\u001b[0;34m,\u001b[0m \u001b[0mlabels\u001b[0m \u001b[0;32min\u001b[0m \u001b[0mvalidation_loader\u001b[0m\u001b[0;34m:\u001b[0m\u001b[0;34m\u001b[0m\u001b[0;34m\u001b[0m\u001b[0m\n\u001b[0;32m----> 8\u001b[0;31m         \u001b[0mrecon_ae\u001b[0m \u001b[0;34m=\u001b[0m \u001b[0mae\u001b[0m\u001b[0;34m.\u001b[0m\u001b[0mdecode\u001b[0m\u001b[0;34m(\u001b[0m\u001b[0mae\u001b[0m\u001b[0;34m.\u001b[0m\u001b[0mencode\u001b[0m\u001b[0;34m(\u001b[0m\u001b[0mimages\u001b[0m\u001b[0;34m)\u001b[0m\u001b[0;34m)\u001b[0m\u001b[0;34m\u001b[0m\u001b[0;34m\u001b[0m\u001b[0m\n\u001b[0m\u001b[1;32m      9\u001b[0m         \u001b[0mrecon_vae\u001b[0m \u001b[0;34m=\u001b[0m \u001b[0mvae\u001b[0m\u001b[0;34m.\u001b[0m\u001b[0mdecode\u001b[0m\u001b[0;34m(\u001b[0m\u001b[0mvae\u001b[0m\u001b[0;34m.\u001b[0m\u001b[0mencode\u001b[0m\u001b[0;34m(\u001b[0m\u001b[0mimages\u001b[0m\u001b[0;34m)\u001b[0m\u001b[0;34m)\u001b[0m\u001b[0;34m\u001b[0m\u001b[0;34m\u001b[0m\u001b[0m\n\u001b[1;32m     10\u001b[0m         \u001b[0m_\u001b[0m\u001b[0;34m,\u001b[0m \u001b[0mrecon_vqvae\u001b[0m\u001b[0;34m,\u001b[0m \u001b[0m_\u001b[0m \u001b[0;34m=\u001b[0m \u001b[0mvqvae\u001b[0m\u001b[0;34m(\u001b[0m\u001b[0mimages\u001b[0m\u001b[0;34m)\u001b[0m\u001b[0;34m\u001b[0m\u001b[0;34m\u001b[0m\u001b[0m\n",
            "\u001b[0;32m<ipython-input-38-c3bca798cb37>\u001b[0m in \u001b[0;36mencode\u001b[0;34m(self, x)\u001b[0m\n\u001b[1;32m     15\u001b[0m \u001b[0;34m\u001b[0m\u001b[0m\n\u001b[1;32m     16\u001b[0m     \u001b[0;32mdef\u001b[0m \u001b[0mencode\u001b[0m\u001b[0;34m(\u001b[0m\u001b[0mself\u001b[0m\u001b[0;34m,\u001b[0m \u001b[0mx\u001b[0m\u001b[0;34m)\u001b[0m\u001b[0;34m:\u001b[0m\u001b[0;34m\u001b[0m\u001b[0;34m\u001b[0m\u001b[0m\n\u001b[0;32m---> 17\u001b[0;31m         \u001b[0mx\u001b[0m \u001b[0;34m=\u001b[0m \u001b[0mself\u001b[0m\u001b[0;34m.\u001b[0m\u001b[0mencoder\u001b[0m\u001b[0;34m(\u001b[0m\u001b[0mx\u001b[0m\u001b[0;34m)\u001b[0m\u001b[0;34m\u001b[0m\u001b[0;34m\u001b[0m\u001b[0m\n\u001b[0m\u001b[1;32m     18\u001b[0m         \u001b[0mx\u001b[0m \u001b[0;34m=\u001b[0m \u001b[0mx\u001b[0m\u001b[0;34m.\u001b[0m\u001b[0mview\u001b[0m\u001b[0;34m(\u001b[0m\u001b[0mx\u001b[0m\u001b[0;34m.\u001b[0m\u001b[0mshape\u001b[0m\u001b[0;34m[\u001b[0m\u001b[0;36m0\u001b[0m\u001b[0;34m]\u001b[0m\u001b[0;34m,\u001b[0m \u001b[0mself\u001b[0m\u001b[0;34m.\u001b[0m\u001b[0mh_dim\u001b[0m\u001b[0;34m*\u001b[0m\u001b[0mcode_size\u001b[0m\u001b[0;34m*\u001b[0m\u001b[0mcode_size\u001b[0m\u001b[0;34m)\u001b[0m\u001b[0;34m\u001b[0m\u001b[0;34m\u001b[0m\u001b[0m\n\u001b[1;32m     19\u001b[0m         \u001b[0;32mreturn\u001b[0m \u001b[0mself\u001b[0m\u001b[0;34m.\u001b[0m\u001b[0mfc1\u001b[0m\u001b[0;34m(\u001b[0m\u001b[0mx\u001b[0m\u001b[0;34m)\u001b[0m\u001b[0;34m\u001b[0m\u001b[0;34m\u001b[0m\u001b[0m\n",
            "\u001b[0;32m/usr/local/lib/python3.9/dist-packages/torch/nn/modules/module.py\u001b[0m in \u001b[0;36m_call_impl\u001b[0;34m(self, *args, **kwargs)\u001b[0m\n\u001b[1;32m   1499\u001b[0m                 \u001b[0;32mor\u001b[0m \u001b[0m_global_backward_pre_hooks\u001b[0m \u001b[0;32mor\u001b[0m \u001b[0m_global_backward_hooks\u001b[0m\u001b[0;34m\u001b[0m\u001b[0;34m\u001b[0m\u001b[0m\n\u001b[1;32m   1500\u001b[0m                 or _global_forward_hooks or _global_forward_pre_hooks):\n\u001b[0;32m-> 1501\u001b[0;31m             \u001b[0;32mreturn\u001b[0m \u001b[0mforward_call\u001b[0m\u001b[0;34m(\u001b[0m\u001b[0;34m*\u001b[0m\u001b[0margs\u001b[0m\u001b[0;34m,\u001b[0m \u001b[0;34m**\u001b[0m\u001b[0mkwargs\u001b[0m\u001b[0;34m)\u001b[0m\u001b[0;34m\u001b[0m\u001b[0;34m\u001b[0m\u001b[0m\n\u001b[0m\u001b[1;32m   1502\u001b[0m         \u001b[0;31m# Do not call functions when jit is used\u001b[0m\u001b[0;34m\u001b[0m\u001b[0;34m\u001b[0m\u001b[0m\n\u001b[1;32m   1503\u001b[0m         \u001b[0mfull_backward_hooks\u001b[0m\u001b[0;34m,\u001b[0m \u001b[0mnon_full_backward_hooks\u001b[0m \u001b[0;34m=\u001b[0m \u001b[0;34m[\u001b[0m\u001b[0;34m]\u001b[0m\u001b[0;34m,\u001b[0m \u001b[0;34m[\u001b[0m\u001b[0;34m]\u001b[0m\u001b[0;34m\u001b[0m\u001b[0;34m\u001b[0m\u001b[0m\n",
            "\u001b[0;32m<ipython-input-6-f7191c6412a0>\u001b[0m in \u001b[0;36mforward\u001b[0;34m(self, x)\u001b[0m\n\u001b[1;32m     18\u001b[0m \u001b[0;34m\u001b[0m\u001b[0m\n\u001b[1;32m     19\u001b[0m     \u001b[0;32mdef\u001b[0m \u001b[0mforward\u001b[0m\u001b[0;34m(\u001b[0m\u001b[0mself\u001b[0m\u001b[0;34m,\u001b[0m \u001b[0mx\u001b[0m\u001b[0;34m)\u001b[0m\u001b[0;34m:\u001b[0m\u001b[0;34m\u001b[0m\u001b[0;34m\u001b[0m\u001b[0m\n\u001b[0;32m---> 20\u001b[0;31m         \u001b[0;32mreturn\u001b[0m \u001b[0mself\u001b[0m\u001b[0;34m.\u001b[0m\u001b[0mconv_block\u001b[0m\u001b[0;34m(\u001b[0m\u001b[0mx\u001b[0m\u001b[0;34m)\u001b[0m\u001b[0;34m\u001b[0m\u001b[0;34m\u001b[0m\u001b[0m\n\u001b[0m",
            "\u001b[0;32m/usr/local/lib/python3.9/dist-packages/torch/nn/modules/module.py\u001b[0m in \u001b[0;36m_call_impl\u001b[0;34m(self, *args, **kwargs)\u001b[0m\n\u001b[1;32m   1499\u001b[0m                 \u001b[0;32mor\u001b[0m \u001b[0m_global_backward_pre_hooks\u001b[0m \u001b[0;32mor\u001b[0m \u001b[0m_global_backward_hooks\u001b[0m\u001b[0;34m\u001b[0m\u001b[0;34m\u001b[0m\u001b[0m\n\u001b[1;32m   1500\u001b[0m                 or _global_forward_hooks or _global_forward_pre_hooks):\n\u001b[0;32m-> 1501\u001b[0;31m             \u001b[0;32mreturn\u001b[0m \u001b[0mforward_call\u001b[0m\u001b[0;34m(\u001b[0m\u001b[0;34m*\u001b[0m\u001b[0margs\u001b[0m\u001b[0;34m,\u001b[0m \u001b[0;34m**\u001b[0m\u001b[0mkwargs\u001b[0m\u001b[0;34m)\u001b[0m\u001b[0;34m\u001b[0m\u001b[0;34m\u001b[0m\u001b[0m\n\u001b[0m\u001b[1;32m   1502\u001b[0m         \u001b[0;31m# Do not call functions when jit is used\u001b[0m\u001b[0;34m\u001b[0m\u001b[0;34m\u001b[0m\u001b[0m\n\u001b[1;32m   1503\u001b[0m         \u001b[0mfull_backward_hooks\u001b[0m\u001b[0;34m,\u001b[0m \u001b[0mnon_full_backward_hooks\u001b[0m \u001b[0;34m=\u001b[0m \u001b[0;34m[\u001b[0m\u001b[0;34m]\u001b[0m\u001b[0;34m,\u001b[0m \u001b[0;34m[\u001b[0m\u001b[0;34m]\u001b[0m\u001b[0;34m\u001b[0m\u001b[0;34m\u001b[0m\u001b[0m\n",
            "\u001b[0;32m/usr/local/lib/python3.9/dist-packages/torch/nn/modules/container.py\u001b[0m in \u001b[0;36mforward\u001b[0;34m(self, input)\u001b[0m\n\u001b[1;32m    215\u001b[0m     \u001b[0;32mdef\u001b[0m \u001b[0mforward\u001b[0m\u001b[0;34m(\u001b[0m\u001b[0mself\u001b[0m\u001b[0;34m,\u001b[0m \u001b[0minput\u001b[0m\u001b[0;34m)\u001b[0m\u001b[0;34m:\u001b[0m\u001b[0;34m\u001b[0m\u001b[0;34m\u001b[0m\u001b[0m\n\u001b[1;32m    216\u001b[0m         \u001b[0;32mfor\u001b[0m \u001b[0mmodule\u001b[0m \u001b[0;32min\u001b[0m \u001b[0mself\u001b[0m\u001b[0;34m:\u001b[0m\u001b[0;34m\u001b[0m\u001b[0;34m\u001b[0m\u001b[0m\n\u001b[0;32m--> 217\u001b[0;31m             \u001b[0minput\u001b[0m \u001b[0;34m=\u001b[0m \u001b[0mmodule\u001b[0m\u001b[0;34m(\u001b[0m\u001b[0minput\u001b[0m\u001b[0;34m)\u001b[0m\u001b[0;34m\u001b[0m\u001b[0;34m\u001b[0m\u001b[0m\n\u001b[0m\u001b[1;32m    218\u001b[0m         \u001b[0;32mreturn\u001b[0m \u001b[0minput\u001b[0m\u001b[0;34m\u001b[0m\u001b[0;34m\u001b[0m\u001b[0m\n\u001b[1;32m    219\u001b[0m \u001b[0;34m\u001b[0m\u001b[0m\n",
            "\u001b[0;32m/usr/local/lib/python3.9/dist-packages/torch/nn/modules/module.py\u001b[0m in \u001b[0;36m_call_impl\u001b[0;34m(self, *args, **kwargs)\u001b[0m\n\u001b[1;32m   1499\u001b[0m                 \u001b[0;32mor\u001b[0m \u001b[0m_global_backward_pre_hooks\u001b[0m \u001b[0;32mor\u001b[0m \u001b[0m_global_backward_hooks\u001b[0m\u001b[0;34m\u001b[0m\u001b[0;34m\u001b[0m\u001b[0m\n\u001b[1;32m   1500\u001b[0m                 or _global_forward_hooks or _global_forward_pre_hooks):\n\u001b[0;32m-> 1501\u001b[0;31m             \u001b[0;32mreturn\u001b[0m \u001b[0mforward_call\u001b[0m\u001b[0;34m(\u001b[0m\u001b[0;34m*\u001b[0m\u001b[0margs\u001b[0m\u001b[0;34m,\u001b[0m \u001b[0;34m**\u001b[0m\u001b[0mkwargs\u001b[0m\u001b[0;34m)\u001b[0m\u001b[0;34m\u001b[0m\u001b[0;34m\u001b[0m\u001b[0m\n\u001b[0m\u001b[1;32m   1502\u001b[0m         \u001b[0;31m# Do not call functions when jit is used\u001b[0m\u001b[0;34m\u001b[0m\u001b[0;34m\u001b[0m\u001b[0m\n\u001b[1;32m   1503\u001b[0m         \u001b[0mfull_backward_hooks\u001b[0m\u001b[0;34m,\u001b[0m \u001b[0mnon_full_backward_hooks\u001b[0m \u001b[0;34m=\u001b[0m \u001b[0;34m[\u001b[0m\u001b[0;34m]\u001b[0m\u001b[0;34m,\u001b[0m \u001b[0;34m[\u001b[0m\u001b[0;34m]\u001b[0m\u001b[0;34m\u001b[0m\u001b[0;34m\u001b[0m\u001b[0m\n",
            "\u001b[0;32m/usr/local/lib/python3.9/dist-packages/torch/nn/modules/conv.py\u001b[0m in \u001b[0;36mforward\u001b[0;34m(self, input)\u001b[0m\n\u001b[1;32m    461\u001b[0m \u001b[0;34m\u001b[0m\u001b[0m\n\u001b[1;32m    462\u001b[0m     \u001b[0;32mdef\u001b[0m \u001b[0mforward\u001b[0m\u001b[0;34m(\u001b[0m\u001b[0mself\u001b[0m\u001b[0;34m,\u001b[0m \u001b[0minput\u001b[0m\u001b[0;34m:\u001b[0m \u001b[0mTensor\u001b[0m\u001b[0;34m)\u001b[0m \u001b[0;34m->\u001b[0m \u001b[0mTensor\u001b[0m\u001b[0;34m:\u001b[0m\u001b[0;34m\u001b[0m\u001b[0;34m\u001b[0m\u001b[0m\n\u001b[0;32m--> 463\u001b[0;31m         \u001b[0;32mreturn\u001b[0m \u001b[0mself\u001b[0m\u001b[0;34m.\u001b[0m\u001b[0m_conv_forward\u001b[0m\u001b[0;34m(\u001b[0m\u001b[0minput\u001b[0m\u001b[0;34m,\u001b[0m \u001b[0mself\u001b[0m\u001b[0;34m.\u001b[0m\u001b[0mweight\u001b[0m\u001b[0;34m,\u001b[0m \u001b[0mself\u001b[0m\u001b[0;34m.\u001b[0m\u001b[0mbias\u001b[0m\u001b[0;34m)\u001b[0m\u001b[0;34m\u001b[0m\u001b[0;34m\u001b[0m\u001b[0m\n\u001b[0m\u001b[1;32m    464\u001b[0m \u001b[0;34m\u001b[0m\u001b[0m\n\u001b[1;32m    465\u001b[0m \u001b[0;32mclass\u001b[0m \u001b[0mConv3d\u001b[0m\u001b[0;34m(\u001b[0m\u001b[0m_ConvNd\u001b[0m\u001b[0;34m)\u001b[0m\u001b[0;34m:\u001b[0m\u001b[0;34m\u001b[0m\u001b[0;34m\u001b[0m\u001b[0m\n",
            "\u001b[0;32m/usr/local/lib/python3.9/dist-packages/torch/nn/modules/conv.py\u001b[0m in \u001b[0;36m_conv_forward\u001b[0;34m(self, input, weight, bias)\u001b[0m\n\u001b[1;32m    457\u001b[0m                             \u001b[0mweight\u001b[0m\u001b[0;34m,\u001b[0m \u001b[0mbias\u001b[0m\u001b[0;34m,\u001b[0m \u001b[0mself\u001b[0m\u001b[0;34m.\u001b[0m\u001b[0mstride\u001b[0m\u001b[0;34m,\u001b[0m\u001b[0;34m\u001b[0m\u001b[0;34m\u001b[0m\u001b[0m\n\u001b[1;32m    458\u001b[0m                             _pair(0), self.dilation, self.groups)\n\u001b[0;32m--> 459\u001b[0;31m         return F.conv2d(input, weight, bias, self.stride,\n\u001b[0m\u001b[1;32m    460\u001b[0m                         self.padding, self.dilation, self.groups)\n\u001b[1;32m    461\u001b[0m \u001b[0;34m\u001b[0m\u001b[0m\n",
            "\u001b[0;31mRuntimeError\u001b[0m: Input type (torch.FloatTensor) and weight type (torch.cuda.FloatTensor) should be the same or input should be a MKLDNN tensor and weight is a dense tensor"
          ]
        }
      ],
      "source": [
        "#Visualize the samples in bulk:\n",
        "ae.eval()\n",
        "vae.eval()\n",
        "vqvae.eval()\n",
        "with torch.no_grad():\n",
        "    #Grab first batch of images:\n",
        "    for images, labels in validation_loader:\n",
        "        recon_ae = ae.decode(ae.encode(images))\n",
        "        recon_vae = vae.decode(vae.encode(images))\n",
        "        _, recon_vqvae, _ = vqvae(images)\n",
        "        break\n",
        "\n",
        "\n",
        "    #Print and show the first 10 samples:\n",
        "\n",
        "    print(f\"Labels: {labels[0:10]}\")\n",
        "    im = make_grid(images[:10], nrow=10)\n",
        "    ae_im = make_grid(recon_ae[:10], nrow=10)\n",
        "    vae_im = make_grid(recon_vae[:10], nrow=10)\n",
        "    vqvae_im = make_grid(recon_vqvae[:10], nrow=10)\n",
        "\n",
        "    fig, ax = plt.subplots(4, figsize=(45,4.5))\n",
        "    fig.tight_layout(pad=1.5)\n",
        "    ax[0].imshow(np.transpose(im.numpy(), (1, 2, 0))) #Remember that default MNIST data is CWH, but matplotlib uses WHC\n",
        "    ax[0].set_title(\"Original:\")\n",
        "\n",
        "    ax[1].imshow(np.transpose(ae_im.numpy(), (1, 2, 0)))\n",
        "    ax[1].set_title(\"AE Reconstruction:\")\n",
        "    \n",
        "    ax[2].imshow(np.transpose(vae_im.numpy(), (1, 2, 0)))\n",
        "    ax[2].set_title(\"VAE Reconstruction:\")\n",
        "\n",
        "    ax[2].imshow(np.transpose(vqvae_im.numpy(), (1, 2, 0)))\n",
        "    ax[2].set_title(\"VQ-VAE Reconstruction:\")"
      ]
    },
    {
      "cell_type": "markdown",
      "metadata": {
        "id": "RDjJHYByrEUS"
      },
      "source": [
        "### 4. Latent Space Dimension & Size Ablation (Jason, if time; this might be more non-trivial than we initially thought):"
      ]
    },
    {
      "cell_type": "code",
      "execution_count": null,
      "metadata": {},
      "outputs": [],
      "source": []
    },
    {
      "cell_type": "markdown",
      "metadata": {
        "id": "Q7djQtPlrEUS"
      },
      "source": [
        "### 5. Sample Generation Ablation (Jason):"
      ]
    },
    {
      "attachments": {},
      "cell_type": "markdown",
      "metadata": {},
      "source": [
        "**Sampling**\n",
        "\n",
        "Unlike VAEs, VQ-VAEs can be difficult to sample from. Recall in VAEs, we enforced $p(z) \\sim N(0, I)$ using a KL divergence loss. This makes it easy to sample a VAE. But VQ-VAEs don't have this nice property. \n",
        "\n",
        "To see this, we can try sampling $z$ uniformly, and see the resulting image. To be more explicit, for each latent pixel in the 8x8 space, we sample one of the 512 codebook vectors uniformly, then feed the whole thing into the decoder."
      ]
    },
    {
      "cell_type": "code",
      "execution_count": null,
      "metadata": {},
      "outputs": [],
      "source": [
        "# first load the model again\n",
        "n_embeddings = 512\n",
        "print(n_hiddens,n_residual_hiddens, n_residual_layers,n_embeddings,embedding_dim)\n",
        "model = VQVAE(n_hiddens, n_residual_hiddens, n_residual_layers,\n",
        "              n_embeddings, embedding_dim, \n",
        "              beta).to(device)\n",
        "model.load_state_dict(torch.load('VQ-VAE_Model'))"
      ]
    },
    {
      "attachments": {},
      "cell_type": "markdown",
      "metadata": {},
      "source": [
        "Chances are the generated image is difficult to recognize. We have 512 codebook vectors, each of which can go into 1 of the squares in the 8 by 8 embedding. So despite being a discrete representation, there are some $64^{512} \\approx 10^{900}$ possible things that can be encoded. So it makes sense that sampling uniformly in this space likely won't reveal anything meaningful. \n",
        "\n",
        "Run the code below to see an example of the embedding index per latent pixel. Do this a couple times for different images. What do you see, are there patterns you notice?"
      ]
    },
    {
      "cell_type": "code",
      "execution_count": null,
      "metadata": {},
      "outputs": [],
      "source": [
        "# vqvae latents\n",
        "viz_loader = torch.utils.data.DataLoader(training_data, batch_size = 1, shuffle = True)\n",
        "X, _ = next(iter(viz_loader))\n",
        "X = X.to(device)\n",
        "z_e = model.encoder(X)\n",
        "z_e = model.pre_quantization_conv(z_e)\n",
        "_, z_q, _, encodings = model.vector_quantization(z_e)\n",
        "plt.imshow(encodings.cpu().numpy(), cmap='gray', aspect='auto')\n",
        "plt.xlabel('embedding index')\n",
        "plt.ylabel('latent pixel')\n",
        "plt.show()"
      ]
    },
    {
      "attachments": {},
      "cell_type": "markdown",
      "metadata": {},
      "source": [
        "**Train an autoregressive model**\n",
        "\n",
        "From the visualizations above, it should be relatively clear that the embeddings chosen per pixel are neither uniformly distributed, nor independent. We'd been breaking apart $p(z_1,\\ldots, z_n) = \\prod_{i=1}^n p(z_i)$. What would make the generation better would be to learn a conditional distribution of each latent pixel based on the previous ones: $p(z_k | z_{k-1} \\ldots z_1)$. In the original VQ-VAE paper, this is done using an autoregressive model, PixelCNN. Here, we attempt to do the same thing."
      ]
    },
    {
      "cell_type": "code",
      "execution_count": null,
      "metadata": {},
      "outputs": [],
      "source": [
        "# PixelCNNs aren't the focus of this project.\n",
        "# This was taken from: https://github.com/jzbontar/pixelcnn-pytorch/\n",
        "\n",
        "class MaskedConv2d(nn.Conv2d):\n",
        "    def __init__(self, mask_type, *args, **kwargs):\n",
        "        super(MaskedConv2d, self).__init__(*args, **kwargs)\n",
        "        assert mask_type in {'A', 'B'}\n",
        "        self.register_buffer('mask', self.weight.data.clone())\n",
        "        _, _, kH, kW = self.weight.size()\n",
        "        self.mask.fill_(1)\n",
        "        self.mask[:, :, kH // 2, kW // 2 + (mask_type == 'B'):] = 0\n",
        "        self.mask[:, :, kH // 2 + 1:] = 0\n",
        "\n",
        "    def forward(self, x):\n",
        "        self.weight.data *= self.mask\n",
        "        return super(MaskedConv2d, self).forward(x)\n",
        "\n",
        "fm = 64\n",
        "pixCNN = nn.Sequential(\n",
        "    MaskedConv2d('A', 512,  fm, 7, 1, 3, bias=False), nn.BatchNorm2d(fm), nn.ReLU(True),\n",
        "    MaskedConv2d('B', fm, fm, 7, 1, 3, bias=False), nn.BatchNorm2d(fm), nn.ReLU(True),\n",
        "    MaskedConv2d('B', fm, fm, 7, 1, 3, bias=False), nn.BatchNorm2d(fm), nn.ReLU(True),\n",
        "    MaskedConv2d('B', fm, fm, 7, 1, 3, bias=False), nn.BatchNorm2d(fm), nn.ReLU(True),\n",
        "    MaskedConv2d('B', fm, fm, 7, 1, 3, bias=False), nn.BatchNorm2d(fm), nn.ReLU(True),\n",
        "    MaskedConv2d('B', fm, fm, 7, 1, 3, bias=False), nn.BatchNorm2d(fm), nn.ReLU(True),\n",
        "    MaskedConv2d('B', fm, fm, 7, 1, 3, bias=False), nn.BatchNorm2d(fm), nn.ReLU(True),\n",
        "    MaskedConv2d('B', fm, fm, 7, 1, 3, bias=False), nn.BatchNorm2d(fm), nn.ReLU(True),\n",
        "    nn.Conv2d(fm, 512, 1)).to(device)"
      ]
    },
    {
      "cell_type": "code",
      "execution_count": null,
      "metadata": {},
      "outputs": [],
      "source": [
        "lr = 0.001\n",
        "batch_size = 128\n",
        "epochs = 15\n",
        "\n",
        "optimizer = torch.optim.Adam(pixCNN.parameters(), lr=lr)\n",
        "train_loader = torch.utils.data.DataLoader(training_data, batch_size=batch_size, shuffle=True)\n",
        "\n",
        "train_losses = []\n",
        "for _ in range(epochs):\n",
        "    for X, _ in tqdm(train_loader):\n",
        "        if X.shape[0] != batch_size:\n",
        "            continue\n",
        "\n",
        "        # get our embedding\n",
        "        X = X.to(device)\n",
        "        z_e = model.encoder(X)\n",
        "        z_e = model.pre_quantization_conv(z_e)\n",
        "        _, z_q, _, encodings = model.vector_quantization(z_e) \n",
        "\n",
        "        enc_inds = encodings.argmax(dim=1, keepdims=True)\n",
        "        encodings_img = encodings.reshape(batch_size, 8, 8, -1)\n",
        "        encodings_img = encodings_img.permute(0, 3, 1, 2).float().to(device)\n",
        "\n",
        "        # learn\n",
        "        optimizer.zero_grad()\n",
        "        output = pixCNN(encodings_img)\n",
        "\n",
        "        output = output.permute(0, 2, 3, 1)\n",
        "        output = output.reshape(-1, 512)\n",
        "\n",
        "        loss = F.cross_entropy(output, enc_inds.squeeze(1).long())\n",
        "        loss.backward()\n",
        "        optimizer.step()\n",
        "\n",
        "        train_losses.append(loss.item())\n",
        "    print(train_losses[-1])"
      ]
    },
    {
      "cell_type": "code",
      "execution_count": null,
      "metadata": {},
      "outputs": [],
      "source": [
        "torch.save(pixCNN.state_dict(), 'PixCNN.pt')\n",
        "pixCNN.load_state_dict(torch.load('PixCNN.pt'))"
      ]
    },
    {
      "cell_type": "code",
      "execution_count": null,
      "metadata": {},
      "outputs": [],
      "source": [
        "sample = torch.zeros(1, 512, 8, 8).to(device)\n",
        "for i in range(8):\n",
        "    for j in range(8):\n",
        "        output = pixCNN(sample)\n",
        "        weights = F.softmax(output[:, :, i, j])\n",
        "        embed_indx = torch.multinomial(weights, 1).item()\n",
        "        sample[:, embed_indx, i, j] = 1\n",
        "\n",
        "sample = sample.squeeze(0).reshape(512, 64)\n",
        "sample = sample.permute((1, 0))\n",
        "\n",
        "quantized = torch.matmul(sample, model.vector_quantization._embedding.weight)\n",
        "quantized = quantized.view(1, 8, 8, 64)\n",
        "quantized = quantized.permute(0, 3, 1, 2).contiguous()\n",
        "z_e = model.decoder(quantized)\n",
        "\n",
        "plt.imshow(z_e.squeeze(0).permute(1, 2, 0).cpu().detach() + 0.5)\n",
        "plt.show()"
      ]
    },
    {
      "cell_type": "markdown",
      "metadata": {
        "id": "LDtYitRNUAX9"
      },
      "source": [
        "## References"
      ]
    },
    {
      "cell_type": "markdown",
      "metadata": {
        "id": "y73MCRnzUGxF"
      },
      "source": [
        "Any references utilized in this project can be found in the README of our repo"
      ]
    }
  ],
  "metadata": {
    "accelerator": "GPU",
    "colab": {
      "provenance": []
    },
    "gpuClass": "standard",
    "kernelspec": {
      "display_name": "Python 3 (ipykernel)",
      "language": "python",
      "name": "python3"
    },
    "language_info": {
      "codemirror_mode": {
        "name": "ipython",
        "version": 3
      },
      "file_extension": ".py",
      "mimetype": "text/x-python",
      "name": "python",
      "nbconvert_exporter": "python",
      "pygments_lexer": "ipython3",
      "version": "3.10.9"
    }
  },
  "nbformat": 4,
  "nbformat_minor": 0
}
